{
  "nbformat": 4,
  "nbformat_minor": 0,
  "metadata": {
    "colab": {
      "provenance": []
    },
    "kernelspec": {
      "name": "python3",
      "display_name": "Python 3"
    },
    "language_info": {
      "name": "python"
    }
  },
  "cells": [
    {
      "cell_type": "markdown",
      "source": [
        "# **Assignment_01**\n",
        "**Name: Iftikhar Zahid**\n",
        "\n",
        "**Email:** IftikharXahid@gmail.com"
      ],
      "metadata": {
        "id": "xKDHLhbZyQIi"
      }
    },
    {
      "cell_type": "markdown",
      "source": [
        "# **Solve the Following Task**\n",
        "\n",
        "\n",
        "**01. Create a list named \"fruits\" containing three different fruits and display its items using for loop.**"
      ],
      "metadata": {
        "id": "GEDmmG1V5LrE"
      }
    },
    {
      "cell_type": "code",
      "execution_count": null,
      "metadata": {
        "id": "LPhWTxL0vLdk"
      },
      "outputs": [],
      "source": [
        "# Declaring a set named \"fruites\" with three different items.\n",
        "fruites={\"apple\", \"banana\", \"mango\"}\n",
        "for i in fruites:  # for loop, to iterate fruites variable items in i variable.\n",
        "  print(i)         # printing i variable value."
      ]
    },
    {
      "cell_type": "markdown",
      "source": [
        " **02. Create a tuple named \"numbers\" with five random numbers and display its item\n",
        "using for loop.**"
      ],
      "metadata": {
        "id": "BCJEkaN26SFD"
      }
    },
    {
      "cell_type": "code",
      "source": [
        "# Define a tuple named \"numbers\"\n",
        "numbers = (4, 7, 9, 8, 10)\n",
        "\n",
        "# Iterate over the elements in the tuple\n",
        "for i in numbers:\n",
        "    # Print each element during the iteration\n",
        "    print(i)\n"
      ],
      "metadata": {
        "id": "5Ql49f-p6RZo"
      },
      "execution_count": null,
      "outputs": []
    },
    {
      "cell_type": "markdown",
      "source": [
        "**03. Create a set named \"colors\" with three different colors and display its items using for loop.**"
      ],
      "metadata": {
        "id": "zGVI_uDL7BEm"
      }
    },
    {
      "cell_type": "code",
      "source": [
        "# Define a set named \"colors\"\n",
        "colors = {'green', 'yellow', 'white'}\n",
        "\n",
        "# Iterate over the elements in the set\n",
        "for i in colors:\n",
        "    # Print each element during the iteration\n",
        "    print(i)\n"
      ],
      "metadata": {
        "id": "LWIuWzPl6_BY"
      },
      "execution_count": null,
      "outputs": []
    },
    {
      "cell_type": "markdown",
      "source": [
        "**04. Create a dictionary named \"student\" with the following key-value pairs:**"
      ],
      "metadata": {
        "id": "ILgcFhim8R5b"
      }
    },
    {
      "cell_type": "markdown",
      "source": [
        "\n",
        "*   name\" as the key and the student's name as the value.\n",
        "*   age\" as the key and the student's age as the value.\n",
        "*   grade\" as the key and the student's grade as the value.\n",
        "\n",
        "\n",
        "**i.   Iterate over the dictionary using the for loop and display its keys**\n",
        "\n"
      ],
      "metadata": {
        "id": "Dq3KOuoN8byo"
      }
    },
    {
      "cell_type": "code",
      "source": [
        "# Define a dictionary named \"dict\" with personal information\n",
        "dict_data = {\"Name\": \"Zahid\", \"Age\": \"25\", \"Grade\": \"A\"}\n",
        "\n",
        "# Iterate over the keys in the dictionary\n",
        "for key in dict_data.keys():\n",
        "    # Print each key during the iteration\n",
        "    print(key)"
      ],
      "metadata": {
        "id": "cTXxsZBO8WGJ"
      },
      "execution_count": null,
      "outputs": []
    },
    {
      "cell_type": "markdown",
      "source": [
        "**ii.   Iterate over the dictionary using the for loop and display its values**"
      ],
      "metadata": {
        "id": "pq-xvxznFOf_"
      }
    },
    {
      "cell_type": "code",
      "source": [
        "# Define a dictionary named \"dict\" with personal information\n",
        "dict_data = {\"Name\": \"Zahid\", \"Age\": \"25\", \"Grade\": \"A\"}\n",
        "\n",
        "# Iterate over the values in the dictionary\n",
        "for value in dict_data.values():\n",
        "    # Print each value during the iteration\n",
        "    print(value)"
      ],
      "metadata": {
        "id": "h-nYyXjvFNvG"
      },
      "execution_count": null,
      "outputs": []
    },
    {
      "cell_type": "markdown",
      "source": [
        "**05. Create a multi-line string named \"poem\" with a short poem of your choice.**"
      ],
      "metadata": {
        "id": "maWpBgEsF7Bt"
      }
    },
    {
      "cell_type": "code",
      "source": [
        "poem = \"\"\"\n",
        "Beneath the moon's soft silver glow,\n",
        "A world in dreams begins to grow.\n",
        "Stars weave tales in the silent night,\n",
        "Guiding hearts with their gentle light.\n",
        "\n",
        "Whispers of the breeze unfold,\n",
        "Nature's secrets, ages old.\n",
        "Mountains stand in stoic grace,\n",
        "Time's gentle touch upon their face.\n",
        "\n",
        "Rivers dance with rhythmic glee,\n",
        "Carving paths to the endless sea.\n",
        "In the tapestry of dusk and dawn,\n",
        "Hope's eternal flame is drawn.\n",
        "\n",
        "Oh, embrace the beauty near and far,\n",
        "A symphony conducted by each shining star.\n",
        "Nature's poem, written in the air,\n",
        "A reminder that life is rich and rare.\n",
        "\"\"\""
      ],
      "metadata": {
        "id": "7EwMXia6GfnF"
      },
      "execution_count": null,
      "outputs": []
    },
    {
      "cell_type": "markdown",
      "source": [
        "**06. Write an if statement to check if the length of the \"fruits\" list is greater than 3. If it is, print \"You have many fruits!\"**"
      ],
      "metadata": {
        "id": "SXGVYJo2ECqL"
      }
    },
    {
      "cell_type": "code",
      "source": [
        "# Declaring a set named \"fruits\" with three different items.\n",
        "fruits = {\"apple\", \"banana\", \"mango\"}\n",
        "\n",
        "# Checking if the length of the \"fruits\" set is greater than 3.\n",
        "if len(fruits) > 3:\n",
        "    # If the condition is true, printing the message.\n",
        "    print(\"You have many fruits!\")\n"
      ],
      "metadata": {
        "id": "XwL5eyPbEIrN"
      },
      "execution_count": null,
      "outputs": []
    },
    {
      "cell_type": "markdown",
      "source": [
        "**07. Create a program that takes a student's numerical grade as input and prints a\n",
        "corresponding letter grade. Use if-else statements to classify the grade into\n",
        "categories such as \"A,\" \"B,\" \"C,\" \"D,\" or \"F.\"**"
      ],
      "metadata": {
        "id": "Q0aerFCUEFFl"
      }
    },
    {
      "cell_type": "markdown",
      "source": [
        "1.    If the numerical grade is 90 or higher, the corresponding letter grade is \"A.\"\n",
        "2.   If the numerical grade is between 80 and 89 (inclusive), the corresponding\n",
        "letter grade is \"B.\"\n",
        "4.   If the numerical grade is between 70 and 79 (inclusive), the corresponding letter grade is \"C.\"\n",
        "\n",
        "5.   If the numerical grade is between 60 and 69 (inclusive), the corresponding\n",
        "letter grade is \"D.\"\n",
        "6.   If the numerical grade is below 60, the corresponding letter grade is \"F.\"\n"
      ],
      "metadata": {
        "id": "F3ZVclOGFljm"
      }
    },
    {
      "cell_type": "code",
      "source": [
        "# Taking user input for the grade\n",
        "Grade = int(input(\"Enter Your Numbers : \"))\n",
        "\n",
        "# Checking if the grade is greater than 90\n",
        "if Grade > 90:\n",
        "    # If true, printing 'A'\n",
        "    print(\"A\")\n",
        "# Checking if the grade is between 80 and 89 (inclusive)\n",
        "elif 80 < Grade < 90:\n",
        "    # If true, printing 'B'\n",
        "    print(\"B\")\n",
        "# Checking if the grade is between 70 and 79 (inclusive)\n",
        "elif 70 < Grade < 80:\n",
        "    # If true, printing 'C'\n",
        "    print(\"C\")\n",
        "# Checking if the grade is between 60 and 69 (inclusive)\n",
        "elif 60 < Grade < 70:\n",
        "    # If true, printing 'D'\n",
        "    print(\"D\")\n",
        "# Checking if the grade is between 50 and 59 (inclusive)\n",
        "elif Grade < 60:\n",
        "    # If true, printing 'F'\n",
        "    print(\"F\")\n"
      ],
      "metadata": {
        "id": "r-fvFEcRc0am"
      },
      "execution_count": null,
      "outputs": []
    },
    {
      "cell_type": "markdown",
      "source": [
        "**08. Create a program that takes a temperature in Celsius as input from user and\n",
        "classifies it into categories like \"Freezing,\" \"Cold,\" \"Moderate,\" \"Warm,\" or \"Hot.\"**\n",
        "\n",
        "**Use if-else statements to define the temperature ranges for each category.**"
      ],
      "metadata": {
        "id": "hPdN9W8tiFPy"
      }
    },
    {
      "cell_type": "markdown",
      "source": [
        "01. If the temperature is below -10 degrees Celsius, it's classified as \"Freezing.\"\n",
        "\n",
        "02. If the temperature is between -10 and 0 degrees Celsius (exclusive), it's\n",
        "classified as \"Cold.\"\n",
        "\n",
        "03. If the temperature is between 0 and 20 degrees Celsius (exclusive), it's\n",
        "classified as \"Moderate.\"\n",
        "\n",
        "04. If the temperature is between 20 and 30 degrees Celsius (exclusive), it's\n",
        "classified as \"Warm.\"\n",
        "\n",
        "05. If the temperature is 30 degrees Celsius or above, it's classified as \"Hot.\""
      ],
      "metadata": {
        "id": "GIp0-ihYpDqe"
      }
    },
    {
      "cell_type": "code",
      "source": [
        "# Taking user input for temperature in Celsius\n",
        "temperature = float(input(\"Enter Temperature in Celsius: \"))\n",
        "\n",
        "# Classifying temperature into categories\n",
        "if temperature < -10:\n",
        "    print(\"Freezing\")\n",
        "elif -10 <= temperature < 0:\n",
        "    print(\"Cold\")\n",
        "elif 0 <= temperature < 20:\n",
        "    print(\"Moderate\")\n",
        "elif 20 <= temperature < 30:\n",
        "    print(\"Warm\")\n",
        "else:\n",
        "    print(\"Hot\")\n"
      ],
      "metadata": {
        "colab": {
          "base_uri": "https://localhost:8080/"
        },
        "id": "_xa8KGUyMEtN",
        "outputId": "6ccca96a-9fda-4f9b-efba-3e182ee8d7bd"
      },
      "execution_count": 5,
      "outputs": [
        {
          "output_type": "stream",
          "name": "stdout",
          "text": [
            "Enter Temperature in Celsius: 31\n",
            "Hot\n"
          ]
        }
      ]
    },
    {
      "cell_type": "markdown",
      "source": [],
      "metadata": {
        "id": "-dWhbijxo9MN"
      }
    }
  ]
}